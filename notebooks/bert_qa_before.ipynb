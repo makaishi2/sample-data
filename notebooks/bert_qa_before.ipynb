{
  "nbformat": 4,
  "nbformat_minor": 0,
  "metadata": {
    "colab": {
      "name": "bert_qa.ipynb",
      "provenance": [],
      "collapsed_sections": [],
      "toc_visible": true
    },
    "kernelspec": {
      "name": "python3",
      "display_name": "Python 3"
    },
    "language_info": {
      "name": "python"
    }
  },
  "cells": [
    {
      "cell_type": "markdown",
      "source": [
        "# Bert QA サンプル\n",
        "\n",
        "https://towardsdatascience.com/question-answering-with-a-fine-tuned-bert-bc4dafd45626"
      ],
      "metadata": {
        "id": "zDJnGBmo0HG5"
      }
    },
    {
      "cell_type": "markdown",
      "source": [
        "## ライブラリ導入"
      ],
      "metadata": {
        "id": "0szeDHA6Itl6"
      }
    },
    {
      "cell_type": "code",
      "execution_count": null,
      "metadata": {
        "id": "FKlsLV-O0Crk"
      },
      "outputs": [],
      "source": [
        "# transformersの導入\n",
        "!pip install transformers | tail -n 1"
      ]
    },
    {
      "cell_type": "code",
      "source": [
        "# ライブラリのインポート\n",
        "import pandas as pd\n",
        "import numpy as np\n",
        "from IPython.display import display\n",
        "\n",
        "import torch\n",
        "from transformers import BertForQuestionAnswering\n",
        "from transformers import BertTokenizer"
      ],
      "metadata": {
        "id": "5I9-gPXDbja3"
      },
      "execution_count": null,
      "outputs": []
    },
    {
      "cell_type": "markdown",
      "source": [
        "## テキストデータ準備"
      ],
      "metadata": {
        "id": "OO5rMMqLI4de"
      }
    },
    {
      "cell_type": "markdown",
      "source": [
        "### coqa データ読み込み\n",
        "\n",
        "https://stanfordnlp.github.io/coqa/\n",
        "\n",
        "CoQAは、質問応答システムを構築するための大規模なデータセットです。CoQAチャレンジの目標は、テキストのパッセージを理解し、会話に現れる一連の相互に関連する質問に答える機械学習モデルの性能を測定することです。"
      ],
      "metadata": {
        "id": "LtWKi8JPJHa2"
      }
    },
    {
      "cell_type": "code",
      "source": [
        "# 訓練用データ読み込み\n",
        "coqa = pd.read_json('http://downloads.cs.stanford.edu/nlp/data/coqa/coqa-train-v1.0.json')\n",
        "# データの確認\n",
        "display(coqa.head())"
      ],
      "metadata": {
        "id": "QcxNfJag0pyE"
      },
      "execution_count": null,
      "outputs": []
    },
    {
      "cell_type": "markdown",
      "source": [
        "### 読み込みデータ確認"
      ],
      "metadata": {
        "id": "Am8ytyBpONnh"
      }
    },
    {
      "cell_type": "code",
      "source": [
        "# データの先頭行の内容表示\n",
        "item = coqa.loc[0,'data']\n",
        "print(item)"
      ],
      "metadata": {
        "id": "A11Jqiki47JF"
      },
      "execution_count": null,
      "outputs": []
    },
    {
      "cell_type": "code",
      "source": [
        "# キーの確認\n",
        "print(item.keys())"
      ],
      "metadata": {
        "id": "XTLOkWlK5KCN"
      },
      "execution_count": null,
      "outputs": []
    },
    {
      "cell_type": "code",
      "source": [
        "# storyの表示\n",
        "print(item['story'])"
      ],
      "metadata": {
        "id": "pVCrMeeb5cLK"
      },
      "execution_count": null,
      "outputs": []
    },
    {
      "cell_type": "code",
      "source": [
        "# questionsの表示\n",
        "for text in item['questions']:\n",
        "    print(text)"
      ],
      "metadata": {
        "id": "rUN5r2K65iCX"
      },
      "execution_count": null,
      "outputs": []
    },
    {
      "cell_type": "code",
      "source": [
        "# answersの表示\n",
        "for text in item['answers']:\n",
        "    print(text)"
      ],
      "metadata": {
        "id": "RJIfCsWn5xm-"
      },
      "execution_count": null,
      "outputs": []
    },
    {
      "cell_type": "markdown",
      "source": [
        "### データ加工"
      ],
      "metadata": {
        "id": "6QwXXAZeOUC8"
      }
    },
    {
      "cell_type": "code",
      "source": [
        "#　テキスト(text)、質問(question)、回答(answer)の抽出\n",
        "# 一つのテキストに対して質問、回答のペアは複数対応\n",
        "cols = [\"text\",\"question\",\"answer\"]\n",
        "\n",
        "# 抽出リストの１行分\n",
        "comp_list = []\n",
        "for index, row in coqa.iterrows():\n",
        "\n",
        "    # 質問の個数だけ繰り返し\n",
        "    for i in range(len(row[\"data\"][\"questions\"])):\n",
        "        temp_list = []\n",
        "\n",
        "        # text\n",
        "        temp_list.append(row[\"data\"][\"story\"])\n",
        "\n",
        "        # i番目の質問\n",
        "        temp_list.append(row[\"data\"][\"questions\"][i][\"input_text\"])\n",
        "\n",
        "        # i番目の回答\n",
        "        temp_list.append(row[\"data\"][\"answers\"][i][\"input_text\"])\n",
        "\n",
        "        # リストのリストを生成\n",
        "        comp_list.append(temp_list)\n",
        "\n",
        "# comp_listからデータフレームを生成\n",
        "data = pd.DataFrame(comp_list, columns=cols) \n",
        "\n",
        "#　２度目以降のために、csvファイルとしても保存\n",
        "data.to_csv(\"CoQA_data.csv\", index=False)"
      ],
      "metadata": {
        "id": "9Z5zwJEZ03O_"
      },
      "execution_count": null,
      "outputs": []
    },
    {
      "cell_type": "markdown",
      "source": [
        "### 加工後データ確認"
      ],
      "metadata": {
        "id": "pQeq9p6ZOdFk"
      }
    },
    {
      "cell_type": "code",
      "source": [
        "# 先頭と、最後の内容表示\n",
        "display(data.head())\n",
        "display(data.tail())"
      ],
      "metadata": {
        "id": "LyamOmSX1F1o"
      },
      "execution_count": null,
      "outputs": []
    },
    {
      "cell_type": "code",
      "source": [
        "# 10番目の要素ののtext, question, answerの確認\n",
        "index = 10\n",
        "print(f'Text: \\n{data.loc[index].text}\\n' )\n",
        "print(f'Question: {data.loc[index].question}\\n' )\n",
        "print(f'Answer: {data.loc[index].answer}\\n')"
      ],
      "metadata": {
        "id": "36ABDkYe1JpL"
      },
      "execution_count": null,
      "outputs": []
    },
    {
      "cell_type": "code",
      "source": [
        "# データの総数\n",
        "print(\"Number of question and answers: \", len(data))"
      ],
      "metadata": {
        "id": "td7YWDx51a-e"
      },
      "execution_count": null,
      "outputs": []
    },
    {
      "cell_type": "markdown",
      "source": [
        "## BERT QAモデル読み込み\n",
        "今回利用するモデルは、QA形式のファインチューニングも済んでいて、入力データを渡すだけで結果を返すことが可能"
      ],
      "metadata": {
        "id": "iqYJ2yMCPAnm"
      }
    },
    {
      "cell_type": "code",
      "source": [
        "model = BertForQuestionAnswering.from_pretrained('bert-large-uncased-whole-word-masking-finetuned-squad')\n",
        "tokenizer = BertTokenizer.from_pretrained('bert-large-uncased-whole-word-masking-finetuned-squad')"
      ],
      "metadata": {
        "id": "QlvoPl7E1l7X"
      },
      "execution_count": null,
      "outputs": []
    },
    {
      "cell_type": "markdown",
      "source": [
        "## BERTによる予測"
      ],
      "metadata": {
        "id": "vbkahQ-QUFbJ"
      }
    },
    {
      "cell_type": "markdown",
      "source": [
        "### 特定の１セット取得"
      ],
      "metadata": {
        "id": "INO93BoWUPci"
      }
    },
    {
      "cell_type": "code",
      "source": [
        "# 特定の１セットを抽出\n",
        "index = 10\n",
        "text = data[\"text\"][index]\n",
        "question = data[\"question\"][index]\n",
        "answer = data[\"answer\"][index]"
      ],
      "metadata": {
        "id": "Dv8MSfgr8uTm"
      },
      "execution_count": null,
      "outputs": []
    },
    {
      "cell_type": "markdown",
      "source": [
        "### 入力データのエンコード"
      ],
      "metadata": {
        "id": "lCvZVmo9UUuD"
      }
    },
    {
      "cell_type": "code",
      "source": [
        "# 質問、テキストの組をエンコードする\n",
        "input_ids = tokenizer.encode(question, text)\n",
        "\n",
        "# エンコードの値から逆向きにトークンの一覧を取得\n",
        "tokens = tokenizer.convert_ids_to_tokens(input_ids)"
      ],
      "metadata": {
        "id": "jgwqYzTG1xZ_"
      },
      "execution_count": null,
      "outputs": []
    },
    {
      "cell_type": "markdown",
      "source": [
        "### エンコード結果の確認"
      ],
      "metadata": {
        "id": "4z4f7AILUdA9"
      }
    },
    {
      "cell_type": "code",
      "source": [
        "# input_idsの長さを計算\n",
        "input_len = len(input_ids)\n",
        "print(f'入力文字列の長さ: {input_len}')"
      ],
      "metadata": {
        "id": "Ba07mZREUhSc"
      },
      "execution_count": null,
      "outputs": []
    },
    {
      "cell_type": "code",
      "source": [
        "# input_idsの先頭２０要素\n",
        "print(input_ids[:20])\n",
        "\n",
        "# tokensの先頭20要素\n",
        "print(tokens[:20])\n",
        "\n",
        "# 先頭20要素をinput_ids, tokensと対応付けて表示\n",
        "for token, id in zip(tokens[:20], input_ids[:20]):\n",
        "    print('{:8}{:8,}'.format(token,id))"
      ],
      "metadata": {
        "id": "r70E5cxJ-31R"
      },
      "execution_count": null,
      "outputs": []
    },
    {
      "cell_type": "markdown",
      "source": [
        "### segment_idsの計算\n",
        "QAモデルでは入力として、インデックス化したテキストだけでなく、segmentベクトルを引数で渡す必要がある。  \n",
        "以下の実装でその準備を行う。"
      ],
      "metadata": {
        "id": "8vRgjKjNVjlK"
      }
    },
    {
      "cell_type": "code",
      "source": [
        "#　[SEP] tokenの最初の位置\n",
        "sep_idx = input_ids.index(tokenizer.sep_token_id)\n",
        "print(\"SEP token index: \", sep_idx)"
      ],
      "metadata": {
        "id": "yehIOshNB403"
      },
      "execution_count": null,
      "outputs": []
    },
    {
      "cell_type": "code",
      "source": [
        "#　セグメントAのトークン数　\n",
        "# (pythonのindexはゼロから始まるので、sep token indexより１大きい)\n",
        "num_seg_a = sep_idx+1\n",
        "print(\"Number of tokens in segment A: \", num_seg_a)"
      ],
      "metadata": {
        "id": "LbSHWsYmCFp5"
      },
      "execution_count": null,
      "outputs": []
    },
    {
      "cell_type": "code",
      "source": [
        "# セグメントBのトークン数\n",
        "num_seg_b = len(input_ids) - num_seg_a\n",
        "print(\"Number of tokens in segment B: \", num_seg_b)"
      ],
      "metadata": {
        "id": "i67ORHmuCLSg"
      },
      "execution_count": null,
      "outputs": []
    },
    {
      "cell_type": "code",
      "source": [
        "# segment_idsの計算\n",
        "segment_ids = [0]*num_seg_a + [1]*num_seg_b\n",
        "print(segment_ids)"
      ],
      "metadata": {
        "id": "TP1EFC19Chvu"
      },
      "execution_count": null,
      "outputs": []
    },
    {
      "cell_type": "code",
      "source": [
        "#　segmeind_idsの長さとinput_idsの長さが一致していることの確認\n",
        "assert len(segment_ids) == len(input_ids)"
      ],
      "metadata": {
        "id": "rrdd_GWA2_vF"
      },
      "execution_count": null,
      "outputs": []
    },
    {
      "cell_type": "markdown",
      "source": [
        "### 予測の実施"
      ],
      "metadata": {
        "id": "1wsy2ygtRCsh"
      }
    },
    {
      "cell_type": "code",
      "source": [
        "# inpit_idsとsegment_idsを用いて予測の実施\n",
        "output = model(torch.tensor([input_ids]),  token_type_ids=torch.tensor([segment_ids]))"
      ],
      "metadata": {
        "id": "aSl6uSIs3Nlh"
      },
      "execution_count": null,
      "outputs": []
    },
    {
      "cell_type": "code",
      "source": [
        "# 結果の確認\n",
        "print(output)"
      ],
      "metadata": {
        "id": "FNOZoLhJC10H"
      },
      "execution_count": null,
      "outputs": []
    },
    {
      "cell_type": "code",
      "source": [
        "# answer_start と answer_endの計算\n",
        "answer_start = torch.argmax(output.start_logits)\n",
        "answer_end = torch.argmax(output.end_logits)\n",
        "if answer_end >= answer_start:\n",
        "    answer = \" \".join(tokens[answer_start:answer_end+1])\n",
        "else:\n",
        "    answer = (\"I am unable to find the answer to this question. Can you please ask another question?\")\n",
        "\n",
        "#  結果の確認\n",
        "print(answer_start, answer_end, answer)\n"
      ],
      "metadata": {
        "id": "HgWP9P7BDZG9"
      },
      "execution_count": null,
      "outputs": []
    },
    {
      "cell_type": "code",
      "source": [
        "question_cap = question.capitalize()\n",
        "answer_cap = answer.capitalize()\n",
        "\n",
        "print(f\"\\nQuestion:\\n{question_cap}\")\n",
        "print(f\"\\nAnswer:\\n{answer_cap}\")"
      ],
      "metadata": {
        "id": "RsP-Krww3TBz"
      },
      "execution_count": null,
      "outputs": []
    },
    {
      "cell_type": "code",
      "source": [
        ""
      ],
      "metadata": {
        "id": "9OnPbyhs4RXE"
      },
      "execution_count": null,
      "outputs": []
    },
    {
      "cell_type": "code",
      "source": [
        ""
      ],
      "metadata": {
        "id": "V8LLn5AZ45AJ"
      },
      "execution_count": null,
      "outputs": []
    }
  ]
}