{
  "nbformat": 4,
  "nbformat_minor": 0,
  "metadata": {
    "colab": {
      "name": " bert-sentiment-sample.ipynb",
      "provenance": [],
      "collapsed_sections": [],
      "toc_visible": true
    },
    "kernelspec": {
      "name": "python3",
      "display_name": "Python 3"
    },
    "language_info": {
      "name": "python"
    },
    "accelerator": "GPU"
  },
  "cells": [
    {
      "cell_type": "markdown",
      "source": [
        "\n",
        "# BERT 感情分析　サンプル\n",
        "\n",
        "\n",
        "参考記事:\n",
        "https://www.analyticsvidhya.com/blog/2021/05/all-you-need-to-know-about-bert/\n",
        "\n",
        "\n",
        "前提環境:　Google Colab\n",
        "動作確認: 2022-03-13"
      ],
      "metadata": {
        "id": "bE6oZ95RFh7-"
      }
    },
    {
      "cell_type": "markdown",
      "source": [
        "## 環境準備"
      ],
      "metadata": {
        "id": "tEhEjqnhGpy-"
      }
    },
    {
      "cell_type": "markdown",
      "source": [
        "### transformersの導入"
      ],
      "metadata": {
        "id": "6TyeRNpOG5BN"
      }
    },
    {
      "cell_type": "code",
      "execution_count": null,
      "metadata": {
        "id": "ZsbYn6kSykXe"
      },
      "outputs": [],
      "source": [
        "!pip install transformers | tail -n 1"
      ]
    },
    {
      "cell_type": "code",
      "source": [
        "# 乱数初期化\n",
        "import torch\n",
        "#import random\n",
        "\n",
        "SEED = 1111\n",
        "torch.manual_seed(SEED)\n",
        "torch.backends.cudnn.deterministic = True"
      ],
      "metadata": {
        "id": "f0n0p1RVyu93"
      },
      "execution_count": null,
      "outputs": []
    },
    {
      "cell_type": "markdown",
      "source": [
        "### BertTokenizerのインポート"
      ],
      "metadata": {
        "id": "tN2efzHUGyzQ"
      }
    },
    {
      "cell_type": "code",
      "source": [
        "# tokenizer インスタンスの生成\n",
        "# 対象モデルは'bert-base-uncased'\n",
        "#from pytorch_transformers import BertTokenizer\n",
        "from transformers import BertTokenizer\n",
        "tokenizer = BertTokenizer.from_pretrained('bert-base-uncased')"
      ],
      "metadata": {
        "id": "jgNI_8G0y6T0"
      },
      "execution_count": null,
      "outputs": []
    },
    {
      "cell_type": "code",
      "source": [
        "# tokenizer関数の動作確認\n",
        "tokens = tokenizer.tokenize(\"What's going on?\")\n",
        "print(tokens)"
      ],
      "metadata": {
        "id": "hLvLHhcgy_SD"
      },
      "execution_count": null,
      "outputs": []
    },
    {
      "cell_type": "code",
      "source": [
        "# convert_tokens_to_ids関数の動作確認\n",
        "indexes = tokenizer.convert_tokens_to_ids(tokens)\n",
        "print(indexes)"
      ],
      "metadata": {
        "id": "R3c05ImFzHAl"
      },
      "execution_count": null,
      "outputs": []
    },
    {
      "cell_type": "code",
      "source": [
        "# BERT固有の特殊トークン達\n",
        "cls_token = tokenizer.cls_token\n",
        "sep_token = tokenizer.sep_token\n",
        "pad_token = tokenizer.pad_token\n",
        "unk_token = tokenizer.unk_token\n",
        "print(cls_token, sep_token, pad_token, unk_token)"
      ],
      "metadata": {
        "id": "h9FZEUlXzSN_"
      },
      "execution_count": null,
      "outputs": []
    },
    {
      "cell_type": "code",
      "source": [
        "# idによるトークン表記\n",
        "cls_token_idx = tokenizer.cls_token_id\n",
        "sep_token_idx = tokenizer.sep_token_id\n",
        "pad_token_idx = tokenizer.pad_token_id\n",
        "unk_token_idx = tokenizer.unk_token_id\n",
        "print(cls_token_idx, sep_token_idx, pad_token_idx, unk_token_idx)"
      ],
      "metadata": {
        "id": "YUxyaqTgzVCZ"
      },
      "execution_count": null,
      "outputs": []
    },
    {
      "cell_type": "markdown",
      "source": [
        "### 学習データの定義"
      ],
      "metadata": {
        "id": "AYbdX-wMJOwQ"
      }
    },
    {
      "cell_type": "code",
      "source": [
        "# 入力テキストのトークン化関数\n",
        "def tokenize(sentence):\n",
        "    tokens = tokenizer.tokenize(sentence) \n",
        "    # 252までで切る\n",
        "    tokens = tokens[:254-2]\n",
        "    return tokens"
      ],
      "metadata": {
        "id": "m-c6OlL9zXoV"
      },
      "execution_count": null,
      "outputs": []
    },
    {
      "cell_type": "code",
      "source": [
        "# 学習データのデータ構造定義\n",
        "\n",
        "# torchtextのバージョンアップに伴い、legacyを付ける必要あり\n",
        "from torchtext.legacy import data\n",
        "\n",
        "# 入力データ\n",
        "TEXT = data.Field(batch_first = True,\n",
        "                  use_vocab = False,\n",
        "                  # 上で定義したトークン化関数\n",
        "                  tokenize = tokenize,\n",
        "                  # 前処理として各トークンをIDに変換\n",
        "                  preprocessing = tokenizer.convert_tokens_to_ids,\n",
        "                  init_token = cls_token_idx,\n",
        "                  eos_token = sep_token_idx,\n",
        "                  pad_token = pad_token_idx)\n",
        " \n",
        "# 正解ラベル\n",
        "LABEL = data.LabelField()"
      ],
      "metadata": {
        "id": "Y8ctMNeUzi9A"
      },
      "execution_count": null,
      "outputs": []
    },
    {
      "cell_type": "code",
      "source": [
        "# データ読み込み\n",
        "from torchtext.legacy import datasets\n",
        "# IMDBは映画のレビューを含んだデータセットで、感情分析(positive/negative)モデルの学習に用いられる\n",
        "# 読み込みに20分程度時間がかかります\n",
        "train_data, valid_data = datasets.IMDB.splits(TEXT, LABEL)"
      ],
      "metadata": {
        "id": "GbwxUs8GznWM"
      },
      "execution_count": null,
      "outputs": []
    },
    {
      "cell_type": "code",
      "source": [
        "# 全件のデータを使うと学習に時間がかかるので、1/10に間引いた\n",
        "import random\n",
        "train_data1, train_data2 = train_data.split(random_state=random.seed(SEED),split_ratio=0.1)\n",
        "valid_data1, valid_data2 = valid_data.split(random_state=random.seed(SEED),split_ratio=0.1)"
      ],
      "metadata": {
        "id": "qVC4Cd29ztZ3"
      },
      "execution_count": null,
      "outputs": []
    },
    {
      "cell_type": "code",
      "source": [
        "# ボキャブラリのビルド\n",
        "LABEL.build_vocab(train_data1)"
      ],
      "metadata": {
        "id": "A-XZZj1h0w-y"
      },
      "execution_count": null,
      "outputs": []
    },
    {
      "cell_type": "code",
      "source": [
        "# 学習時のバッチサイズ\n",
        "BATCH_SIZE = 16"
      ],
      "metadata": {
        "id": "pDcAqKKxKys0"
      },
      "execution_count": null,
      "outputs": []
    },
    {
      "cell_type": "code",
      "source": [
        "# GPU利用\n",
        "device = torch.device('cuda' if torch.cuda.is_available() else 'cpu')\n",
        "print(device)"
      ],
      "metadata": {
        "id": "2cqyHoLa0xCZ"
      },
      "execution_count": null,
      "outputs": []
    },
    {
      "cell_type": "code",
      "source": [
        "# 学習用、検証用のイテレーターの定義\n",
        "train_iterator, valid_iterator = data.BucketIterator.splits(\n",
        "    (train_data1, valid_data1), \n",
        "    batch_size = BATCH_SIZE, \n",
        "    device = device)"
      ],
      "metadata": {
        "id": "e-Wrz7aL0xGj"
      },
      "execution_count": null,
      "outputs": []
    },
    {
      "cell_type": "code",
      "source": [
        "# 学習データの中身を見てみる\n",
        "idx0 = train_data[1].text\n",
        "print(idx0)"
      ],
      "metadata": {
        "id": "wxLJFRcI02mu"
      },
      "execution_count": null,
      "outputs": []
    },
    {
      "cell_type": "code",
      "source": [
        "# token表記に戻してみる\n",
        "text0 = tokenizer.convert_ids_to_tokens(idx0)\n",
        "print(text0)"
      ],
      "metadata": {
        "id": "qvmrD_KK02q1"
      },
      "execution_count": null,
      "outputs": []
    },
    {
      "cell_type": "markdown",
      "source": [
        "## 学習の準備"
      ],
      "metadata": {
        "id": "PGTViBtlPOsN"
      }
    },
    {
      "cell_type": "markdown",
      "source": [
        " ### モデルの定義"
      ],
      "metadata": {
        "id": "M2p6iR7ML4XG"
      }
    },
    {
      "cell_type": "markdown",
      "source": [
        "bert-base-uncased:  \n",
        "12-層、768-隠れ次元、12-ヘッド、110M パラメータ\n",
        "lower-cased 英語テキスト上で訓練\n",
        "\n",
        "https://torch.classcat.com/2021/05/16/huggingface-transformers-4-6-pretrained-models/"
      ],
      "metadata": {
        "id": "zFyD1TABMZA-"
      }
    },
    {
      "cell_type": "code",
      "source": [
        "# 事前学習済みモデルのロード\n",
        "from transformers import BertModel\n",
        "bert = BertModel.from_pretrained('bert-base-uncased')"
      ],
      "metadata": {
        "id": "f0AOZmcc0xLA"
      },
      "execution_count": null,
      "outputs": []
    },
    {
      "cell_type": "code",
      "source": [
        "print(bert)"
      ],
      "metadata": {
        "id": "gvqeHHovncf6"
      },
      "execution_count": null,
      "outputs": []
    },
    {
      "cell_type": "code",
      "source": [
        "# モデルの定義\n",
        "# 事前学習済みモデルの後段に線形関数を追加し、この出力で感情分析をする\n",
        "import torch.nn as nn\n",
        "\n",
        "class BERTSentiment(nn.Module):\n",
        "    def __init__(self,\n",
        "                 bert,\n",
        "                 output_dim):\n",
        "        \n",
        "        super().__init__()\n",
        "        \n",
        "        self.bert = bert\n",
        "        embedding_dim = bert.config.to_dict()['hidden_size']\n",
        "        self.out = nn.Linear(embedding_dim, output_dim)\n",
        "        \n",
        "    def forward(self, text):\n",
        "        #text = [batch size, sent len]\n",
        "\n",
        "        #embedded = [batch size, emb dim]\n",
        "        embedded = self.bert(text)[1]\n",
        "        \n",
        "        #output = [batch size, out dim]\n",
        "        output = self.out(embedded)\n",
        "        \n",
        "        return output"
      ],
      "metadata": {
        "id": "zaun91gz2QIi"
      },
      "execution_count": null,
      "outputs": []
    },
    {
      "cell_type": "code",
      "source": [
        "# モデルインスタンスの生成\n",
        "# 出力は感情分析なので2\n",
        "\n",
        "OUTPUT_DIM = 2\n",
        "\n",
        "model = BERTSentiment(bert,\n",
        "                     OUTPUT_DIM).to(device)"
      ],
      "metadata": {
        "id": "VZ7uZi912Z5o"
      },
      "execution_count": null,
      "outputs": []
    },
    {
      "cell_type": "code",
      "source": [
        "# モデルのパラメータ数の確認\n",
        "def count_parameters(model):\n",
        "    return sum(p.numel() for p in model.parameters() if p.requires_grad)\n",
        "\n",
        "print(f'The model has {count_parameters(model):,} trainable parameters')"
      ],
      "metadata": {
        "id": "1dfZyZii2i4w"
      },
      "execution_count": null,
      "outputs": []
    },
    {
      "cell_type": "markdown",
      "source": [
        "### 最適化関数、損失関数の定義など"
      ],
      "metadata": {
        "id": "EtqXRWOjOGEV"
      }
    },
    {
      "cell_type": "code",
      "source": [
        "import torch.optim as optim\n",
        "from transformers import AdamW, get_constant_schedule_with_warmup\n",
        "# 最適化関数の定義\n",
        "optimizer = AdamW(model.parameters(),lr=2e-5,eps=1e-6)\n",
        "# 損失関数の定義\n",
        "criterion = nn.CrossEntropyLoss().to(device)"
      ],
      "metadata": {
        "id": "ydypTb3y2qw7"
      },
      "execution_count": null,
      "outputs": []
    },
    {
      "cell_type": "code",
      "source": [
        "# スケジューラの定義\n",
        "def get_scheduler(optimizer, warmup_steps):\n",
        "    scheduler = get_constant_schedule_with_warmup(optimizer, num_warmup_steps=warmup_steps)\n",
        "    return scheduler"
      ],
      "metadata": {
        "id": "rIMq552O2t50"
      },
      "execution_count": null,
      "outputs": []
    },
    {
      "cell_type": "code",
      "source": [
        "#　精度計算\n",
        "\n",
        "def categorical_accuracy(preds, y):\n",
        "    max_preds = preds.argmax(dim = 1, keepdim = True)\n",
        "    correct = (max_preds.squeeze(1)==y).float()\n",
        "    return correct.sum() / len(y)"
      ],
      "metadata": {
        "id": "Tfl4BFW123uv"
      },
      "execution_count": null,
      "outputs": []
    },
    {
      "cell_type": "code",
      "source": [
        "# ステータスバー表示用\n",
        "from tqdm.notebook import tqdm"
      ],
      "metadata": {
        "id": "PzcX4H7s_QZY"
      },
      "execution_count": null,
      "outputs": []
    },
    {
      "cell_type": "markdown",
      "source": [
        "### 学習用関数trainの定義"
      ],
      "metadata": {
        "id": "EhLF5QMwRTQC"
      }
    },
    {
      "cell_type": "code",
      "source": [
        "def train(model, iterator, optimizer, criterion, scheduler):\n",
        "    \n",
        "    epoch_loss = 0\n",
        "    epoch_acc = 0\n",
        "    model.train()\n",
        "    \n",
        "    for batch in tqdm(iterator):\n",
        "        optimizer.zero_grad() # clear gradients first\n",
        "        torch.cuda.empty_cache() # releases all unoccupied cached memory \n",
        "        text = batch.text\n",
        "        label = batch.label\n",
        "        predictions = model(text)\n",
        "        loss = criterion(predictions, label)\n",
        "        acc = categorical_accuracy(predictions, label)\n",
        "        loss.backward()\n",
        "        optimizer.step()\n",
        "        scheduler.step()\n",
        "        epoch_loss += loss.item()\n",
        "        epoch_acc += acc.item()\n",
        "        \n",
        "    return epoch_loss / len(iterator), epoch_acc / len(iterator)"
      ],
      "metadata": {
        "id": "RYHdZpXS26vT"
      },
      "execution_count": null,
      "outputs": []
    },
    {
      "cell_type": "markdown",
      "source": [
        "### 検証用関数evaluateの定義"
      ],
      "metadata": {
        "id": "rU4Uo_RwReCq"
      }
    },
    {
      "cell_type": "code",
      "source": [
        "def evaluate(model, iterator, criterion):\n",
        "    epoch_loss = 0\n",
        "    epoch_acc = 0\n",
        "    model.eval()\n",
        "    \n",
        "    with torch.no_grad():\n",
        "        for batch in tqdm(iterator):\n",
        "            text = batch.text\n",
        "            label = batch.label\n",
        "            predictions = model(text)\n",
        "            loss = criterion(predictions, label)\n",
        "            acc = categorical_accuracy(predictions, label)\n",
        "            epoch_loss += loss.item()\n",
        "            epoch_acc += acc.item()\n",
        "        \n",
        "    return epoch_loss / len(iterator), epoch_acc / len(iterator)"
      ],
      "metadata": {
        "id": "Wfayw7yq3ISu"
      },
      "execution_count": null,
      "outputs": []
    },
    {
      "cell_type": "markdown",
      "source": [
        "### 処理時間計算用関数　epoch_timeの定義"
      ],
      "metadata": {
        "id": "SML8775QRrn-"
      }
    },
    {
      "cell_type": "code",
      "source": [
        "import time\n",
        "\n",
        "def epoch_time(start_time, end_time):\n",
        "    elapsed_time = end_time - start_time\n",
        "    elapsed_mins = int(elapsed_time / 60)\n",
        "    elapsed_secs = int(elapsed_time - (elapsed_mins * 60))\n",
        "    return elapsed_mins, elapsed_secs"
      ],
      "metadata": {
        "id": "C_Ts6AWE3QfS"
      },
      "execution_count": null,
      "outputs": []
    },
    {
      "cell_type": "markdown",
      "source": [
        "## 学習"
      ],
      "metadata": {
        "id": "1agLswgTR7sY"
      }
    },
    {
      "cell_type": "code",
      "source": [
        "# 各種変数の初期化\n",
        "import math\n",
        "N_EPOCHS = 3\n",
        "#train_data_len = 25000\n",
        "train_data_len = 2500\n",
        "\n",
        "warmup_percent = 0.2\n",
        "total_steps = math.ceil(N_EPOCHS*train_data_len*1./BATCH_SIZE)\n",
        "warmup_steps = int(total_steps*warmup_percent)\n",
        "scheduler = get_scheduler(optimizer, warmup_steps)\n",
        "\n",
        "best_valid_loss = float('inf')"
      ],
      "metadata": {
        "id": "auwExqSN3UVv"
      },
      "execution_count": null,
      "outputs": []
    },
    {
      "cell_type": "code",
      "source": [
        "# 学習\n",
        "# 学習時間は１epochあたり５分、計15分程度です(Google ColabでGPU利用の場合)\n",
        "for epoch in range(N_EPOCHS):\n",
        "\n",
        "    start_time = time.time()\n",
        "    # 学習と評価\n",
        "    train_loss, train_acc = train(model, train_iterator, optimizer, criterion, scheduler)\n",
        "    # 検証データによる評価\n",
        "    valid_loss, valid_acc = evaluate(model, valid_iterator, criterion)\n",
        "    \n",
        "    #  処理時間の計算\n",
        "    end_time = time.time()\n",
        "    epoch_mins, epoch_secs = epoch_time(start_time, end_time)\n",
        "    \n",
        "    # 検証データの損失が最もいい場合は、モデルを保存する\n",
        "    if valid_loss < best_valid_loss:\n",
        "        best_valid_loss = valid_loss\n",
        "        torch.save(model.state_dict(), 'bert-nli.pt')\n",
        "    \n",
        "    print(f'Epoch: {epoch+1:02} | Epoch Time: {epoch_mins}m {epoch_secs}s')\n",
        "    print(f'\\tTrain Loss: {train_loss:.3f} | Train Acc: {train_acc*100:.2f}%')\n",
        "    print(f'\\t Val. Loss: {valid_loss:.3f} |  Val. Acc: {valid_acc*100:.2f}%')"
      ],
      "metadata": {
        "id": "7ZqNqKGr3wEA"
      },
      "execution_count": null,
      "outputs": []
    },
    {
      "cell_type": "code",
      "source": [
        ""
      ],
      "metadata": {
        "id": "DWiQ29nz30n4"
      },
      "execution_count": null,
      "outputs": []
    }
  ]
}