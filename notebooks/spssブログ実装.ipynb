{
  "nbformat": 4,
  "nbformat_minor": 0,
  "metadata": {
    "kernelspec": {
      "display_name": "Python 3",
      "language": "python",
      "name": "python3"
    },
    "language_info": {
      "codemirror_mode": {
        "name": "ipython",
        "version": 3
      },
      "file_extension": ".py",
      "mimetype": "text/x-python",
      "name": "python",
      "nbconvert_exporter": "python",
      "pygments_lexer": "ipython3",
      "version": "3.8.5"
    },
    "colab": {
      "name": "spssブログ実装.ipynb",
      "provenance": [],
      "collapsed_sections": [],
      "toc_visible": true
    }
  },
  "cells": [
    {
      "cell_type": "markdown",
      "metadata": {
        "id": "h7z1TmIgj4GJ"
      },
      "source": [
        "# SPSSブログ Python実装"
      ]
    },
    {
      "cell_type": "markdown",
      "metadata": {
        "id": "MF9RTeUMj4GL"
      },
      "source": [
        "## 共通事前処理"
      ]
    },
    {
      "cell_type": "code",
      "metadata": {
        "id": "3OlP_hIXj4GL"
      },
      "source": [
        "# 必要ライブラリのimport\n",
        "import pandas as pd\n",
        "import numpy as np\n",
        "\n",
        "# データフレーム表示用関数\n",
        "from IPython.display import display\n",
        "\n",
        "# データフレームですべての項目を表示\n",
        "pd.set_option(\"display.max_columns\",None)"
      ],
      "execution_count": null,
      "outputs": []
    },
    {
      "cell_type": "markdown",
      "metadata": {
        "id": "iAcyrHXNj4GM"
      },
      "source": [
        "## データ読み込み"
      ]
    },
    {
      "cell_type": "code",
      "metadata": {
        "id": "85wO5DEdy1R2"
      },
      "source": [
        "# データ読み込み\n",
        "url = 'https://raw.githubusercontent.com/yoichiro0903n/blue/main/sampledatacross2.csv'\n",
        "df = pd.read_csv(url, index_col='ID')\n",
        "\n",
        "display(df.head())"
      ],
      "execution_count": null,
      "outputs": []
    },
    {
      "cell_type": "code",
      "metadata": {
        "id": "7Qdie2L5j4GM"
      },
      "source": [
        "# 'T'-> True, 'F'-> Falseに変換\n",
        "df2 = df.replace({'T': True, 'F': False})\n",
        "\n",
        "# 結果確認\n",
        "display(df2.head())"
      ],
      "execution_count": null,
      "outputs": []
    },
    {
      "cell_type": "markdown",
      "metadata": {
        "id": "HVEBu84Kj4GM"
      },
      "source": [
        "## 例題1"
      ]
    },
    {
      "cell_type": "markdown",
      "metadata": {
        "id": "pL99DdBkrVk3"
      },
      "source": [
        "### 初期設定"
      ]
    },
    {
      "cell_type": "code",
      "metadata": {
        "id": "-6QeSAq0rPWF"
      },
      "source": [
        "#  項目のリスト\n",
        "I = df2.columns\n",
        "\n",
        "# 項目数\n",
        "N = len(I)\n",
        "\n",
        "# 結果表の初期設定\n",
        "S = pd.DataFrame(np.zeros((N, N)), \n",
        "    columns=I, index=I, dtype='int64')"
      ],
      "execution_count": null,
      "outputs": []
    },
    {
      "cell_type": "markdown",
      "metadata": {
        "id": "VBwFfzurj4GM"
      },
      "source": [
        "### 集計処理"
      ]
    },
    {
      "cell_type": "code",
      "metadata": {
        "id": "nuWpTSjej4GN"
      },
      "source": [
        "# 3重ループで該当要素値をカウントアップ\n",
        "for i in df2.values:\n",
        "    # 要素がTrueの項目のみ抽出\n",
        "    x1 = I[i].tolist()\n",
        "    \n",
        "    # 要素数が１以下の場合は何もしない\n",
        "    if len(x1) <= 1:\n",
        "        continue\n",
        "    \n",
        "    # 項目ペアの生成\n",
        "    for x2 in x1:\n",
        "        x3 = x1.copy()\n",
        "        x3.remove(x2)\n",
        "    \n",
        "        # x3は更に各要素に分解\n",
        "        for x4 in x3:\n",
        "        \n",
        "        # DataFrameの該当要素値をカウントアップ\n",
        "            S.loc[x2, x4] += 1\n",
        "        \n",
        "# 結果確認\n",
        "display(S)"
      ],
      "execution_count": null,
      "outputs": []
    },
    {
      "cell_type": "markdown",
      "metadata": {
        "id": "CF97knZQj4GN"
      },
      "source": [
        "## 例題2"
      ]
    },
    {
      "cell_type": "markdown",
      "metadata": {
        "id": "q1lioXbBj4GN"
      },
      "source": [
        "### 関数定義"
      ]
    },
    {
      "cell_type": "code",
      "metadata": {
        "id": "hIk6IKS9j4GN"
      },
      "source": [
        "# 1次元化したインデックスを2次元に戻し\n",
        "# 該当項目名をタプルで戻す関数\n",
        "\n",
        "def getitem(x, I):\n",
        "    N = len(I)\n",
        "    x1, x2 = (x % N), (x // N)\n",
        "    return(I[x1], I[x2])"
      ],
      "execution_count": null,
      "outputs": []
    },
    {
      "cell_type": "markdown",
      "metadata": {
        "id": "7ty3SFzn4cDH"
      },
      "source": [
        "### 項目ペアのリスト作成"
      ]
    },
    {
      "cell_type": "code",
      "metadata": {
        "id": "qEXXpY_Dj4GN"
      },
      "source": [
        "# 上位5個の項目ペアを取得\n",
        "\n",
        "# 結果リスト初期化\n",
        "cols_list = []\n",
        "\n",
        "# 行列の項目値を抜き出し1次元化\n",
        "w1 = S.values.reshape(-1)\n",
        "\n",
        "# 上位5個のインデックス値取得\n",
        "w2 = np.argsort(-w1)[:10:2]\n",
        "\n",
        "# getitem関数を使って項目名ペアのリスト作成\n",
        "for i in w2:\n",
        "    x, y = getitem(i, I)\n",
        "    cols_list.append([x, y])\n",
        "\n",
        "# 結果確認\n",
        "for cols in cols_list:\n",
        "    print(cols)"
      ],
      "execution_count": null,
      "outputs": []
    },
    {
      "cell_type": "markdown",
      "metadata": {
        "id": "mGZFnovO4lxz"
      },
      "source": [
        "### 該当データの抽出"
      ]
    },
    {
      "cell_type": "code",
      "metadata": {
        "id": "UHTzdLNg1Q-h"
      },
      "source": [
        "# 空のデータフレーム作成\n",
        "target_df = pd.DataFrame()\n",
        "\n",
        "# 先頭行から順にループ処理\n",
        "for i in range(len(df2)):\n",
        "    \n",
        "    # 要素がTrueの項目のみ抽出\n",
        "    item = df2.iloc[i]\n",
        "    \n",
        "    # 抽出結果を集合化\n",
        "    x1 = set(I[item.values].tolist())\n",
        "    for j in cols_list:\n",
        "        \n",
        "        # cols_listの各要素も集合化\n",
        "        x2 = set(j)\n",
        "        \n",
        "        # 集合同士の比較で条件を満たしているかチェック\n",
        "        if x2 <= x1:\n",
        "            target_df = target_df.append(df.iloc[i])\n",
        "            break\n",
        "        # 以下の実装は2重ループで最初のループにcontinueをかけるためのテクニック\n",
        "        else:\n",
        "            continue"
      ],
      "execution_count": null,
      "outputs": []
    },
    {
      "cell_type": "code",
      "metadata": {
        "id": "sQ0mni52j4GO"
      },
      "source": [
        "# 結果確認\n",
        "display(target_df.head(6))\n",
        "\n",
        "# 結果件数確認\n",
        "count = len(target_df)\n",
        "print(f'結果件数: {count}')"
      ],
      "execution_count": null,
      "outputs": []
    },
    {
      "cell_type": "code",
      "metadata": {
        "id": "lx7Mnuu8j4GO"
      },
      "source": [
        ""
      ],
      "execution_count": null,
      "outputs": []
    }
  ]
}