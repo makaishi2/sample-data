{
  "nbformat": 4,
  "nbformat_minor": 0,
  "metadata": {
    "colab": {
      "provenance": [],
      "toc_visible": true
    },
    "kernelspec": {
      "name": "python3",
      "display_name": "Python 3"
    },
    "language_info": {
      "name": "python"
    }
  },
  "cells": [
    {
      "cell_type": "markdown",
      "source": [
        "## qiita用サンプルNotebook\n"
      ],
      "metadata": {
        "id": "yLN4PLZvvOPM"
      }
    },
    {
      "cell_type": "markdown",
      "source": [
        "### 共通処理"
      ],
      "metadata": {
        "id": "STyiCQRgvcuy"
      }
    },
    {
      "cell_type": "code",
      "execution_count": 1,
      "metadata": {
        "id": "7bXa45nJu0xT",
        "outputId": "a1cdda78-b0a9-4ac8-ccbf-be82a5d3467b",
        "colab": {
          "base_uri": "https://localhost:8080/"
        }
      },
      "outputs": [
        {
          "output_type": "stream",
          "name": "stdout",
          "text": [
            "Requirement already satisfied: six>=1.5 in /usr/local/lib/python3.10/dist-packages (from python-dateutil>=2.7->matplotlib->japanize-matplotlib) (1.16.0)\n"
          ]
        }
      ],
      "source": [
        "# 日本語化ライブラリ導入\n",
        "!pip install japanize-matplotlib | tail -n 1"
      ]
    },
    {
      "cell_type": "code",
      "source": [
        "# ライブラリのimport\n",
        "\n",
        "# NumPy用ライブラリ\n",
        "import numpy as np\n",
        "\n",
        "# Matplotlib中のpyplotライブラリのインポート\n",
        "import matplotlib.pyplot as plt\n",
        "\n",
        "# matplotlib日本語化対応ライブラリのインポート\n",
        "import japanize_matplotlib\n",
        "\n",
        "# pandas用ライブラリ\n",
        "import pandas as pd\n",
        "\n",
        "# データフレーム表示用関数\n",
        "from IPython.display import display"
      ],
      "metadata": {
        "id": "YTRyN_qtu_1O"
      },
      "execution_count": 2,
      "outputs": []
    },
    {
      "cell_type": "code",
      "source": [
        "# 表示オプション調整\n",
        "\n",
        "# NumPy表示形式の設定\n",
        "np.set_printoptions(\n",
        "    suppress=True, precision=4, floatmode='fixed'\n",
        ")\n",
        "\n",
        "# グラフのデフォルトフォント指定\n",
        "plt.rcParams[\"font.size\"] = 14\n",
        "\n",
        "# サイズ設定\n",
        "plt.rcParams['figure.figsize'] = (6, 6)\n",
        "\n",
        "# 方眼表示ON\n",
        "plt.rcParams['axes.grid'] = True\n",
        "\n",
        "\n",
        "# データフレームでの表示精度\n",
        "pd.options.display.float_format = '{:.4f}'.format\n",
        "\n",
        "# データフレームですべての項目を表示\n",
        "pd.set_option(\"display.max_columns\", None)"
      ],
      "metadata": {
        "id": "M-RTO01UvD26"
      },
      "execution_count": 3,
      "outputs": []
    },
    {
      "cell_type": "markdown",
      "source": [
        "###  テンプレートファイルのコピー"
      ],
      "metadata": {
        "id": "vCiYvChV1GfZ"
      }
    },
    {
      "cell_type": "code",
      "source": [
        "url1 = 'https://github.com/makaishi2/sample-data/raw/master/data/bank-marketing-template.xlsx'\n",
        "!wget $url1\n",
        "!ls -l"
      ],
      "metadata": {
        "colab": {
          "base_uri": "https://localhost:8080/"
        },
        "id": "xc2GpW152Jj0",
        "outputId": "0f9a36f5-500b-432f-f9f9-cb663e4b58f0"
      },
      "execution_count": 12,
      "outputs": [
        {
          "output_type": "stream",
          "name": "stdout",
          "text": [
            "--2023-06-03 07:15:15--  https://github.com/makaishi2/sample-data/raw/master/data/bank-marketing-template.xlsx\n",
            "Resolving github.com (github.com)... 192.30.255.113\n",
            "Connecting to github.com (github.com)|192.30.255.113|:443... connected.\n",
            "HTTP request sent, awaiting response... 302 Found\n",
            "Location: https://raw.githubusercontent.com/makaishi2/sample-data/master/data/bank-marketing-template.xlsx [following]\n",
            "--2023-06-03 07:15:15--  https://raw.githubusercontent.com/makaishi2/sample-data/master/data/bank-marketing-template.xlsx\n",
            "Resolving raw.githubusercontent.com (raw.githubusercontent.com)... 185.199.108.133, 185.199.109.133, 185.199.110.133, ...\n",
            "Connecting to raw.githubusercontent.com (raw.githubusercontent.com)|185.199.108.133|:443... connected.\n",
            "HTTP request sent, awaiting response... 200 OK\n",
            "Length: 9678 (9.5K) [application/octet-stream]\n",
            "Saving to: ‘bank-marketing-template.xlsx’\n",
            "\n",
            "\r          bank-mark   0%[                    ]       0  --.-KB/s               \rbank-marketing-temp 100%[===================>]   9.45K  --.-KB/s    in 0s      \n",
            "\n",
            "2023-06-03 07:15:15 (79.9 MB/s) - ‘bank-marketing-template.xlsx’ saved [9678/9678]\n",
            "\n",
            "total 3808\n",
            "-rw-r--r-- 1 root root 1799658 Jun  3 07:05 bank-marketing-record.xlsx\n",
            "-rw-r--r-- 1 root root    9678 Jun  3 07:15 bank-marketing-template.xlsx\n",
            "-rw-r--r-- 1 root root    9678 Jun  3 07:13 bank-marketing-template.xlsx.1\n",
            "-rw-r--r-- 1 root root 2066242 Jun  3 05:55 bank-marketing-v2.csv\n",
            "drwxr-xr-x 1 root root    4096 Jun  1 22:51 sample_data\n"
          ]
        }
      ]
    },
    {
      "cell_type": "markdown",
      "source": [
        "### データ読み込み"
      ],
      "metadata": {
        "id": "cCj1_vR1vqCH"
      }
    },
    {
      "cell_type": "code",
      "source": [
        "url2 = 'https://github.com/makaishi2/sample-data/raw/master/data/bank-marketing-v2.csv'\n",
        "df = pd.read_csv(url2)"
      ],
      "metadata": {
        "id": "e-RTFF8Rv37d"
      },
      "execution_count": 13,
      "outputs": []
    },
    {
      "cell_type": "code",
      "source": [
        "df.isnull().sum()"
      ],
      "metadata": {
        "colab": {
          "base_uri": "https://localhost:8080/"
        },
        "id": "YvjaueVXFNvn",
        "outputId": "3db5f98c-e78b-428d-a27e-9ece101b750b"
      },
      "execution_count": 14,
      "outputs": [
        {
          "output_type": "execute_result",
          "data": {
            "text/plain": [
              "年齢          0\n",
              "職業        288\n",
              "婚姻          0\n",
              "学歴       1857\n",
              "平均残高        0\n",
              "住宅ローン       0\n",
              "個人ローン       0\n",
              "dtype: int64"
            ]
          },
          "metadata": {},
          "execution_count": 14
        }
      ]
    },
    {
      "cell_type": "code",
      "source": [
        "rows = df.shape[0]\n",
        "cols = df.shape[1]\n",
        "max_row = rows + 1\n",
        "print(f'cols: {cols} rows: {rows}')\n",
        "display(df.head())"
      ],
      "metadata": {
        "id": "i4glRWwkxzV7",
        "outputId": "51ecdcda-c215-41e3-fd45-7addcb28629c",
        "colab": {
          "base_uri": "https://localhost:8080/",
          "height": 223
        }
      },
      "execution_count": 15,
      "outputs": [
        {
          "output_type": "stream",
          "name": "stdout",
          "text": [
            "cols: 7 rows: 45211\n"
          ]
        },
        {
          "output_type": "display_data",
          "data": {
            "text/plain": [
              "   年齢            職業       婚姻         学歴  平均残高  住宅ローン  個人ローン\n",
              "0  58    management  married   tertiary  2143   True  False\n",
              "1  44    technician   single  secondary    29   True  False\n",
              "2  33  entrepreneur  married  secondary     2   True   True\n",
              "3  47   blue-collar  married        NaN  1506   True  False\n",
              "4  33           NaN   single        NaN     1  False  False"
            ],
            "text/html": [
              "\n",
              "  <div id=\"df-0e266227-77ef-4882-98c3-17bbf726bf7f\">\n",
              "    <div class=\"colab-df-container\">\n",
              "      <div>\n",
              "<style scoped>\n",
              "    .dataframe tbody tr th:only-of-type {\n",
              "        vertical-align: middle;\n",
              "    }\n",
              "\n",
              "    .dataframe tbody tr th {\n",
              "        vertical-align: top;\n",
              "    }\n",
              "\n",
              "    .dataframe thead th {\n",
              "        text-align: right;\n",
              "    }\n",
              "</style>\n",
              "<table border=\"1\" class=\"dataframe\">\n",
              "  <thead>\n",
              "    <tr style=\"text-align: right;\">\n",
              "      <th></th>\n",
              "      <th>年齢</th>\n",
              "      <th>職業</th>\n",
              "      <th>婚姻</th>\n",
              "      <th>学歴</th>\n",
              "      <th>平均残高</th>\n",
              "      <th>住宅ローン</th>\n",
              "      <th>個人ローン</th>\n",
              "    </tr>\n",
              "  </thead>\n",
              "  <tbody>\n",
              "    <tr>\n",
              "      <th>0</th>\n",
              "      <td>58</td>\n",
              "      <td>management</td>\n",
              "      <td>married</td>\n",
              "      <td>tertiary</td>\n",
              "      <td>2143</td>\n",
              "      <td>True</td>\n",
              "      <td>False</td>\n",
              "    </tr>\n",
              "    <tr>\n",
              "      <th>1</th>\n",
              "      <td>44</td>\n",
              "      <td>technician</td>\n",
              "      <td>single</td>\n",
              "      <td>secondary</td>\n",
              "      <td>29</td>\n",
              "      <td>True</td>\n",
              "      <td>False</td>\n",
              "    </tr>\n",
              "    <tr>\n",
              "      <th>2</th>\n",
              "      <td>33</td>\n",
              "      <td>entrepreneur</td>\n",
              "      <td>married</td>\n",
              "      <td>secondary</td>\n",
              "      <td>2</td>\n",
              "      <td>True</td>\n",
              "      <td>True</td>\n",
              "    </tr>\n",
              "    <tr>\n",
              "      <th>3</th>\n",
              "      <td>47</td>\n",
              "      <td>blue-collar</td>\n",
              "      <td>married</td>\n",
              "      <td>NaN</td>\n",
              "      <td>1506</td>\n",
              "      <td>True</td>\n",
              "      <td>False</td>\n",
              "    </tr>\n",
              "    <tr>\n",
              "      <th>4</th>\n",
              "      <td>33</td>\n",
              "      <td>NaN</td>\n",
              "      <td>single</td>\n",
              "      <td>NaN</td>\n",
              "      <td>1</td>\n",
              "      <td>False</td>\n",
              "      <td>False</td>\n",
              "    </tr>\n",
              "  </tbody>\n",
              "</table>\n",
              "</div>\n",
              "      <button class=\"colab-df-convert\" onclick=\"convertToInteractive('df-0e266227-77ef-4882-98c3-17bbf726bf7f')\"\n",
              "              title=\"Convert this dataframe to an interactive table.\"\n",
              "              style=\"display:none;\">\n",
              "        \n",
              "  <svg xmlns=\"http://www.w3.org/2000/svg\" height=\"24px\"viewBox=\"0 0 24 24\"\n",
              "       width=\"24px\">\n",
              "    <path d=\"M0 0h24v24H0V0z\" fill=\"none\"/>\n",
              "    <path d=\"M18.56 5.44l.94 2.06.94-2.06 2.06-.94-2.06-.94-.94-2.06-.94 2.06-2.06.94zm-11 1L8.5 8.5l.94-2.06 2.06-.94-2.06-.94L8.5 2.5l-.94 2.06-2.06.94zm10 10l.94 2.06.94-2.06 2.06-.94-2.06-.94-.94-2.06-.94 2.06-2.06.94z\"/><path d=\"M17.41 7.96l-1.37-1.37c-.4-.4-.92-.59-1.43-.59-.52 0-1.04.2-1.43.59L10.3 9.45l-7.72 7.72c-.78.78-.78 2.05 0 2.83L4 21.41c.39.39.9.59 1.41.59.51 0 1.02-.2 1.41-.59l7.78-7.78 2.81-2.81c.8-.78.8-2.07 0-2.86zM5.41 20L4 18.59l7.72-7.72 1.47 1.35L5.41 20z\"/>\n",
              "  </svg>\n",
              "      </button>\n",
              "      \n",
              "  <style>\n",
              "    .colab-df-container {\n",
              "      display:flex;\n",
              "      flex-wrap:wrap;\n",
              "      gap: 12px;\n",
              "    }\n",
              "\n",
              "    .colab-df-convert {\n",
              "      background-color: #E8F0FE;\n",
              "      border: none;\n",
              "      border-radius: 50%;\n",
              "      cursor: pointer;\n",
              "      display: none;\n",
              "      fill: #1967D2;\n",
              "      height: 32px;\n",
              "      padding: 0 0 0 0;\n",
              "      width: 32px;\n",
              "    }\n",
              "\n",
              "    .colab-df-convert:hover {\n",
              "      background-color: #E2EBFA;\n",
              "      box-shadow: 0px 1px 2px rgba(60, 64, 67, 0.3), 0px 1px 3px 1px rgba(60, 64, 67, 0.15);\n",
              "      fill: #174EA6;\n",
              "    }\n",
              "\n",
              "    [theme=dark] .colab-df-convert {\n",
              "      background-color: #3B4455;\n",
              "      fill: #D2E3FC;\n",
              "    }\n",
              "\n",
              "    [theme=dark] .colab-df-convert:hover {\n",
              "      background-color: #434B5C;\n",
              "      box-shadow: 0px 1px 3px 1px rgba(0, 0, 0, 0.15);\n",
              "      filter: drop-shadow(0px 1px 2px rgba(0, 0, 0, 0.3));\n",
              "      fill: #FFFFFF;\n",
              "    }\n",
              "  </style>\n",
              "\n",
              "      <script>\n",
              "        const buttonEl =\n",
              "          document.querySelector('#df-0e266227-77ef-4882-98c3-17bbf726bf7f button.colab-df-convert');\n",
              "        buttonEl.style.display =\n",
              "          google.colab.kernel.accessAllowed ? 'block' : 'none';\n",
              "\n",
              "        async function convertToInteractive(key) {\n",
              "          const element = document.querySelector('#df-0e266227-77ef-4882-98c3-17bbf726bf7f');\n",
              "          const dataTable =\n",
              "            await google.colab.kernel.invokeFunction('convertToInteractive',\n",
              "                                                     [key], {});\n",
              "          if (!dataTable) return;\n",
              "\n",
              "          const docLinkHtml = 'Like what you see? Visit the ' +\n",
              "            '<a target=\"_blank\" href=https://colab.research.google.com/notebooks/data_table.ipynb>data table notebook</a>'\n",
              "            + ' to learn more about interactive tables.';\n",
              "          element.innerHTML = '';\n",
              "          dataTable['output_type'] = 'display_data';\n",
              "          await google.colab.output.renderOutput(dataTable, element);\n",
              "          const docLink = document.createElement('div');\n",
              "          docLink.innerHTML = docLinkHtml;\n",
              "          element.appendChild(docLink);\n",
              "        }\n",
              "      </script>\n",
              "    </div>\n",
              "  </div>\n",
              "  "
            ]
          },
          "metadata": {}
        }
      ]
    },
    {
      "cell_type": "markdown",
      "source": [
        "### Excelファイルオープン"
      ],
      "metadata": {
        "id": "UzI-IjPA3us_"
      }
    },
    {
      "cell_type": "code",
      "source": [
        "!cp bank-marketing-template.xlsx bank-marketing-record.xlsx"
      ],
      "metadata": {
        "id": "ljbespI50XSX"
      },
      "execution_count": 16,
      "outputs": []
    },
    {
      "cell_type": "code",
      "source": [
        "fn = 'bank-marketing-record.xlsx'\n",
        "\n",
        "# コピー後のExcelオープン\n",
        "from openpyxl import load_workbook\n",
        "wb = load_workbook(fn)\n",
        "\n",
        "# シート選択(1シートしかないのでこれでOK)\n",
        "ws = wb.active"
      ],
      "metadata": {
        "id": "saefXR8s4LxO"
      },
      "execution_count": 17,
      "outputs": []
    },
    {
      "cell_type": "markdown",
      "source": [
        "### セル値のコピー"
      ],
      "metadata": {
        "id": "T9afCy2M46Om"
      }
    },
    {
      "cell_type": "code",
      "source": [
        "# セル値のコピー\n",
        "for row in range(rows):\n",
        "    for col in range(cols):\n",
        "        ws.cell(row=row+2, column=col+1).value = df.iloc[row, col]"
      ],
      "metadata": {
        "id": "RE4isnaV4SEp"
      },
      "execution_count": 19,
      "outputs": []
    },
    {
      "cell_type": "markdown",
      "source": [
        "### 罫線設定"
      ],
      "metadata": {
        "id": "EHndlvz0CXHt"
      }
    },
    {
      "cell_type": "code",
      "source": [
        "from openpyxl.styles.borders import Border, Side\n",
        "# 罫線設定用\n",
        "side = Side(style='thin', color='000000')\n",
        "border_all = Border(top=side, bottom=side, left=side, right=side)\n",
        "\n",
        "for row in range(rows+1):\n",
        "    for col in range(cols+3):\n",
        "        ws.cell(row=row+1, column=col+1).border = border_all"
      ],
      "metadata": {
        "id": "FdtH4CHqCb8C"
      },
      "execution_count": 20,
      "outputs": []
    },
    {
      "cell_type": "markdown",
      "source": [
        "###  DataValidation設定"
      ],
      "metadata": {
        "id": "kklgiwHG7JS-"
      }
    },
    {
      "cell_type": "code",
      "source": [
        "from openpyxl.worksheet.datavalidation import DataValidation\n",
        "\n",
        "dv1 = DataValidation(\n",
        "    type=\"list\",\n",
        "    formula1='\"1. 見込みあり,2. 優先度低,3. 見込みなし\"',\n",
        "    showErrorMessage=True,\n",
        "    errorStyle=\"stop\",\n",
        ")\n",
        "\n",
        "dv2 = DataValidation(\n",
        "    type=\"list\",\n",
        "    formula1='\"1. 成功,2. 失敗\"',\n",
        "    showErrorMessage=True,\n",
        "    errorStyle=\"stop\",\n",
        ")\n",
        "\n",
        "# 見込み\n",
        "dv1.add(f'H2:H{max_row}')\n",
        "ws.add_data_validation(dv1)\n",
        "\n",
        "# 成功\n",
        "dv2.add(f'I2:I{max_row}')\n",
        "ws.add_data_validation(dv2)"
      ],
      "metadata": {
        "id": "soqDiJyN7GxP"
      },
      "execution_count": 21,
      "outputs": []
    },
    {
      "cell_type": "markdown",
      "source": [
        "### セルロック設定"
      ],
      "metadata": {
        "id": "hZ8wD6k2_Mq-"
      }
    },
    {
      "cell_type": "code",
      "source": [
        "from openpyxl.styles import Protection\n",
        "\n",
        "# ワークシート全体にロックをかける\n",
        "ws.protection.enable()\n",
        "# フィルターは認める\n",
        "ws.protection.autoFilter = False\n",
        "\n",
        "# 特定セルに対しロック解除\n",
        "unlock_cells = ws[f'H2:J{max_row}']\n",
        "for row in unlock_cells:\n",
        "    for cell in row:\n",
        "        cell.protection = Protection(locked=False)\n",
        "\n",
        "unlock_cells = ws[f'A1:J1']\n",
        "for row in unlock_cells:\n",
        "    for cell in row:\n",
        "        cell.protection = Protection(locked=False)"
      ],
      "metadata": {
        "id": "aoU_BiKs_SOL"
      },
      "execution_count": 22,
      "outputs": []
    },
    {
      "cell_type": "markdown",
      "source": [
        "### 計算式設定"
      ],
      "metadata": {
        "id": "ux2_iOTNFdNL"
      }
    },
    {
      "cell_type": "code",
      "source": [
        "# 全体件数\n",
        "ws['M1'].value = f'=counta(A2:A{max_row})'\n",
        "\n",
        "#　成功件数\n",
        "ws['O1'].value = f'=countif(I2:I{max_row},\"1. 成功\")'\n",
        "\n",
        "#　失敗件数\n",
        "ws['Q1'].value = f'=countif(I2:I{max_row},\"2. 失敗\")'"
      ],
      "metadata": {
        "id": "BhEahRXNFbwP"
      },
      "execution_count": 27,
      "outputs": []
    },
    {
      "cell_type": "markdown",
      "source": [
        "### 保存"
      ],
      "metadata": {
        "id": "7_QGp80DFiRq"
      }
    },
    {
      "cell_type": "code",
      "source": [
        "# ファイル保存\n",
        "wb.save(fn)"
      ],
      "metadata": {
        "id": "Io0hX9IM5YNl"
      },
      "execution_count": 28,
      "outputs": []
    },
    {
      "cell_type": "code",
      "source": [],
      "metadata": {
        "id": "TIWwlZAv5hEM"
      },
      "execution_count": null,
      "outputs": []
    }
  ]
}