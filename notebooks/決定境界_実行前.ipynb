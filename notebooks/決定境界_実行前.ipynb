{
  "cells": [
    {
      "cell_type": "markdown",
      "metadata": {
        "id": "mO5GHcBosupZ"
      },
      "source": [
        "# 決定境界表示サンプルコード"
      ]
    },
    {
      "cell_type": "markdown",
      "source": [
        "## ライブラリ読み込み・初期設定"
      ],
      "metadata": {
        "id": "eIG8PvvpDqX8"
      }
    },
    {
      "cell_type": "code",
      "execution_count": null,
      "metadata": {
        "id": "FX0l4bfYHNwl"
      },
      "outputs": [],
      "source": [
        "# 日本語化ライブラリ導入\n",
        "!pip install japanize-matplotlib | tail -n 1"
      ]
    },
    {
      "cell_type": "code",
      "execution_count": null,
      "metadata": {
        "id": "2awHTZPdsupd"
      },
      "outputs": [],
      "source": [
        "# 共通事前処理\n",
        "\n",
        "# 余分なワーニングを非表示にする\n",
        "import warnings\n",
        "warnings.filterwarnings('ignore')\n",
        "\n",
        "# 必要ライブラリのimport\n",
        "import pandas as pd\n",
        "import numpy as np\n",
        "import matplotlib.pyplot as plt\n",
        "\n",
        "# matplotlib日本語化対応\n",
        "import japanize_matplotlib\n",
        "\n",
        "# データフレーム表示用関数\n",
        "from IPython.display import display\n",
        "\n",
        "# 表示オプション調整\n",
        "# グラフのデフォルトフォント指定\n",
        "plt.rcParams[\"font.size\"] = 14\n",
        "# 乱数の種\n",
        "random_seed = 123"
      ]
    },
    {
      "cell_type": "markdown",
      "source": [
        "## サンプルデータ生成"
      ],
      "metadata": {
        "id": "xq9_hDPaD1GJ"
      }
    },
    {
      "cell_type": "code",
      "source": [
        "# サンプルデータの生成\n",
        "\n",
        "# ライブラリインポート\n",
        "from sklearn.datasets import make_moons\n",
        "# 三日月型 (線形分離不可)\n",
        "X, y = make_moons(noise = 0.05, random_state=random_seed, \n",
        "    n_samples=200)\n",
        "\n",
        "#  学習データの最初の列と２番目の列を抽出\n",
        "X1 = X[:,0]\n",
        "X2 = X[:,1]"
      ],
      "metadata": {
        "id": "BAs-nmtJpOAM"
      },
      "execution_count": null,
      "outputs": []
    },
    {
      "cell_type": "markdown",
      "source": [
        "## サンプルデータの散布図表示"
      ],
      "metadata": {
        "id": "6kcrUeuPEKUP"
      }
    },
    {
      "cell_type": "code",
      "source": [
        "# カラーマップ定義\n",
        "from matplotlib.colors import ListedColormap\n",
        "cmap1 = plt.cm.bwr\n",
        "cmap2 = ListedColormap(['#0000FF', '#000000'])"
      ],
      "metadata": {
        "id": "h4o2xq2lyw-x"
      },
      "execution_count": null,
      "outputs": []
    },
    {
      "cell_type": "code",
      "source": [
        "# 散布図表示\n",
        "plt.figure(figsize=(5,4))\n",
        "plt.scatter(X1, X2, c=y, cmap=cmap2)\n",
        "plt.show()"
      ],
      "metadata": {
        "id": "pdwFXjrOqdXl"
      },
      "execution_count": null,
      "outputs": []
    },
    {
      "cell_type": "markdown",
      "source": [
        "## モデル生成・学習"
      ],
      "metadata": {
        "id": "TFcceEUCEaPz"
      }
    },
    {
      "cell_type": "code",
      "source": [
        "# モデル生成(アルゴリズム選定)\n",
        "from sklearn.svm import SVC\n",
        "algorithm = SVC(kernel='rbf', probability=True, random_state=random_seed)"
      ],
      "metadata": {
        "id": "GZl0tCZHpOD5"
      },
      "execution_count": null,
      "outputs": []
    },
    {
      "cell_type": "code",
      "source": [
        "# 学習\n",
        "algorithm.fit(X, y)"
      ],
      "metadata": {
        "id": "ua3xAe9HQJOP"
      },
      "execution_count": null,
      "outputs": []
    },
    {
      "cell_type": "markdown",
      "source": [
        "## グラフ描画用メッシュ生成"
      ],
      "metadata": {
        "id": "9zy1XL_dFAPG"
      }
    },
    {
      "cell_type": "code",
      "source": [
        "# グラフ描画用メッシュ生成\n",
        "\n",
        "# メッシュの刻み幅\n",
        "h = 0.005\n",
        "\n",
        "# それぞれの最小値と最大値を計算\n",
        "f1_min, f1_max = X1.min(), X1.max()\n",
        "f2_min, f2_max = X2.min(), X2.max()\n",
        "\n",
        "# 最小値と最大値の間を刻み幅で等間隔に区切る\n",
        "f1_range = np.arange(f1_min, f1_max+h, h)\n",
        "f2_range = np.arange(f2_min, f2_max+h, h)\n",
        "\n",
        "# 上の結果を基にメッシュ配列の生成\n",
        "f1, f2 = np.meshgrid(f1_range, f2_range)\n",
        "\n",
        "# 結果の一部確認\n",
        "print(f1[0,:5])\n",
        "print(f2[0,:5])"
      ],
      "metadata": {
        "id": "q2TPtrmppOLh"
      },
      "execution_count": null,
      "outputs": []
    },
    {
      "cell_type": "markdown",
      "source": [
        "## モデル入力用変数生成"
      ],
      "metadata": {
        "id": "usYtcZ4QFJAz"
      }
    },
    {
      "cell_type": "code",
      "source": [
        "# モデル入力用変数生成\n",
        "# f1, f2からN行2列のNumPy配列を生成する\n",
        "\n",
        "w = np.c_[f1.ravel(), f2.ravel()]\n",
        "print(w.shape)\n",
        "print(w[:,:10])"
      ],
      "metadata": {
        "id": "i4v-063jpOPF"
      },
      "execution_count": null,
      "outputs": []
    },
    {
      "cell_type": "markdown",
      "source": [
        "## 予測(確率値取得)"
      ],
      "metadata": {
        "id": "1lD3h5e9KIc5"
      }
    },
    {
      "cell_type": "code",
      "source": [
        "# 予測(確率値取得)\n",
        "#　  (予測値0に対する確率値は捨てる)\n",
        "Z = algorithm.predict_proba(w)[:,1]\n",
        "\n",
        "# 結果を２次元メッシュ状に戻す\n",
        "W = Z.reshape(f1.shape)\n",
        "\n",
        "# 各変数のshape確認\n",
        "print(Z.shape)\n",
        "print(W.shape)\n",
        "print(f1.shape)"
      ],
      "metadata": {
        "id": "qp7GM0iSpOSo"
      },
      "execution_count": null,
      "outputs": []
    },
    {
      "cell_type": "markdown",
      "source": [
        "## contourf関数を用いて等高線表示"
      ],
      "metadata": {
        "id": "ek6OU65XMNdD"
      }
    },
    {
      "cell_type": "code",
      "source": [
        "# contourf関数を用いて等高線表示\n",
        "plt.figure(figsize=(5,4))\n",
        "plt.scatter(X1, X2, c=y, cmap=cmap2)\n",
        "plt.contourf(f1, f2, W, cmap=cmap1, alpha=0.3)\n",
        "plt.show()"
      ],
      "metadata": {
        "id": "xb3_6nTWwpNJ"
      },
      "execution_count": null,
      "outputs": []
    },
    {
      "cell_type": "markdown",
      "source": [
        "## contour関数を用いて決定境界表示"
      ],
      "metadata": {
        "id": "uhNiPAdRMZpw"
      }
    },
    {
      "cell_type": "code",
      "source": [
        "# contour関数を用いて決定境界表示\n",
        "# 確率値で見たとき、決定境界とは確率値が0.5の点をつないだ曲線\n",
        "plt.figure(figsize=(5,4))\n",
        "plt.scatter(X1, X2, c=y, cmap=cmap2)\n",
        "plt.contour(f1, f2, W, levels=[0.5], linewidth=2)\n",
        "plt.show()"
      ],
      "metadata": {
        "id": "GMnH0zOzwpI9"
      },
      "execution_count": null,
      "outputs": []
    },
    {
      "cell_type": "markdown",
      "source": [
        "## contour関数を用いて複数の境界表示"
      ],
      "metadata": {
        "id": "i5gdVgYsM6pj"
      }
    },
    {
      "cell_type": "code",
      "source": [
        "# contour関数を用いて複数の境界表示\n",
        "#　等高線の値を複数与えることも可能\n",
        "plt.figure(figsize=(5,4))\n",
        "plt.scatter(X1, X2, c=y, cmap=cmap2)\n",
        "plt.contour(f1, f2, W, levels=[0.1,0.5,0.9], linewidth=2)\n",
        "plt.show()"
      ],
      "metadata": {
        "id": "ChUO4AViwpEz"
      },
      "execution_count": null,
      "outputs": []
    },
    {
      "cell_type": "markdown",
      "source": [
        "## contourf関数とcontour関数を同時に利用"
      ],
      "metadata": {
        "id": "zJdWbxsBNDcC"
      }
    },
    {
      "cell_type": "code",
      "source": [
        "# contourf関数とcontour関数を同時に利用\n",
        "plt.figure(figsize=(5,4))\n",
        "plt.scatter(X1, X2, c=y, cmap=cmap2)\n",
        "plt.contourf(f1, f2, W, cmap=cmap1, alpha=0.3)\n",
        "plt.contour(f1, f2, W, levels=[0.5], linewidth=2)\n",
        "plt.show()"
      ],
      "metadata": {
        "id": "YPach3VEuatB"
      },
      "execution_count": null,
      "outputs": []
    },
    {
      "cell_type": "markdown",
      "source": [
        "## 確率値を３次元曲面表示"
      ],
      "metadata": {
        "id": "Rlrq5tCOKXge"
      }
    },
    {
      "cell_type": "code",
      "source": [
        "# 確率値を３次元曲面表示\n",
        "from mpl_toolkits.mplot3d import Axes3D\n",
        "plt.figure(figsize=(8,8))\n",
        "ax = plt.subplot(1, 1, 1, projection='3d')\n",
        "ax.plot_surface(f1, f2, W, color='blue', \n",
        "    rstride=10, cstride=10, alpha=0.2)\n",
        "plt.show()"
      ],
      "metadata": {
        "id": "AXqMGT5EuaoY"
      },
      "execution_count": null,
      "outputs": []
    },
    {
      "cell_type": "markdown",
      "source": [
        "# 決定境界表示関数"
      ],
      "metadata": {
        "id": "_S5TSkTfNUUP"
      }
    },
    {
      "cell_type": "markdown",
      "source": [
        "## 関数定義"
      ],
      "metadata": {
        "id": "e6Eu9e4lRTaJ"
      }
    },
    {
      "cell_type": "code",
      "source": [
        "#　決定境界表示関数\n",
        "def show_boundary(X, y, algorithm, h=0.005):\n",
        "    X1 = X[:,0]\n",
        "    X2 = X[:,1]\n",
        "    f1_min, f1_max = X1.min(), X1.max()\n",
        "    f2_min, f2_max = X2.min(), X2.max()\n",
        "    f1_range = np.arange(f1_min, f1_max+h, h)\n",
        "    f2_range = np.arange(f2_min, f2_max+h, h)\n",
        "    f1, f2 = np.meshgrid(f1_range, f2_range)\n",
        "    w = np.c_[f1.ravel(), f2.ravel()]\n",
        "    Z = algorithm.predict_proba(w)[:,1]\n",
        "    W = Z.reshape(f1.shape)\n",
        "\n",
        "    # グラフ描画\n",
        "    from matplotlib.colors import ListedColormap\n",
        "    cmap1 = plt.cm.bwr\n",
        "    cmap2 = ListedColormap(['#0000FF', '#000000'])\n",
        "    plt.figure(figsize=(5,4))\n",
        "    plt.scatter(X1, X2, c=y, cmap=cmap2)\n",
        "    plt.contourf(f1, f2, W, cmap=cmap1, alpha=0.3)\n",
        "    plt.contour(f1, f2, W, levels=[0.5], linewidth=2)\n",
        "    plt.show()"
      ],
      "metadata": {
        "id": "-e9qoeTxuaxL"
      },
      "execution_count": null,
      "outputs": []
    },
    {
      "cell_type": "markdown",
      "source": [
        "## 利用サンプル"
      ],
      "metadata": {
        "id": "imwGT4wRRXNW"
      }
    },
    {
      "cell_type": "code",
      "source": [
        "# サンプルデータの生成\n",
        "\n",
        "# ライブラリインポート\n",
        "from sklearn.datasets import make_moons\n",
        "# 三日月型 (線形分離不可)\n",
        "X, y = make_moons(noise = 0.05, random_state=random_seed, \n",
        "    n_samples=200)"
      ],
      "metadata": {
        "id": "H9aHDnX9QZlH"
      },
      "execution_count": null,
      "outputs": []
    },
    {
      "cell_type": "code",
      "source": [
        "# モデル生成(アルゴリズム選定)\n",
        "from sklearn.svm import SVC\n",
        "algorithm = SVC(kernel='rbf', probability=True, random_state=random_seed)\n",
        "\n",
        "# 学習\n",
        "algorithm.fit(X, y)"
      ],
      "metadata": {
        "id": "JihxXD-oNXpA"
      },
      "execution_count": null,
      "outputs": []
    },
    {
      "cell_type": "code",
      "source": [
        "show_boundary(X, y, algorithm)"
      ],
      "metadata": {
        "id": "EhhN_XBSRgs5"
      },
      "execution_count": null,
      "outputs": []
    },
    {
      "cell_type": "code",
      "source": [
        "show_boundary(X, y, algorithm, h=0.5)"
      ],
      "metadata": {
        "id": "v34wKXLfQXVF"
      },
      "execution_count": null,
      "outputs": []
    },
    {
      "cell_type": "markdown",
      "source": [
        "# おまけ　　書籍「Pythonで儲かるＡＩをつくる」修正コード"
      ],
      "metadata": {
        "id": "1lLa25EZR5qz"
      }
    },
    {
      "cell_type": "markdown",
      "source": [
        "## 簡易修正版(どの場合も決定境界が標示される)"
      ],
      "metadata": {
        "id": "zDkTX3KGSooP"
      }
    },
    {
      "cell_type": "code",
      "source": [
        "# 簡易修正版(どの場合も決定境界が標示される)\n",
        "from sklearn.model_selection import train_test_split\n",
        "\n",
        "# 決定境界の表示関数\n",
        "def plot_boundary(ax, x, y, algorithm):\n",
        "    x_train, x_test, y_train, y_test = train_test_split(x, y,\n",
        "            test_size=0.5, random_state=random_seed)\n",
        "    # カラーマップ定義\n",
        "    from matplotlib.colors import ListedColormap\n",
        "    cmap1 = plt.cm.bwr\n",
        "    cmap2 = ListedColormap(['#0000FF', '#000000'])\n",
        "\n",
        "    h = 0.005\n",
        "    algorithm.fit(x_train, y_train)\n",
        "    score_test = algorithm.score(x_test, y_test)\n",
        "    score_train = algorithm.score(x_train, y_train)\n",
        "    f1_min = x[:, 0].min() - 0.5\n",
        "    f1_max = x[:, 0].max() + 0.5\n",
        "    f2_min = x[:, 1].min() - 0.5\n",
        "    f2_max = x[:, 1].max() + 0.5\n",
        "    f1, f2 = np.meshgrid(np.arange(f1_min, f1_max, h), \n",
        "                         np.arange(f2_min, f2_max, h))\n",
        "    if hasattr(algorithm, \"decision_function\"):\n",
        "        Z = algorithm.decision_function(np.c_[f1.ravel(), f2.ravel()])\n",
        "        Z = Z.reshape(f1.shape)\n",
        "        ax.contour(f1, f2, Z, levels=[0], linewidth=2)\n",
        "    else:\n",
        "        Z = algorithm.predict_proba(np.c_[f1.ravel(), f2.ravel()])[:, 1]\n",
        "        Z = Z.reshape(f1.shape)\n",
        "        # この下の行を追加\n",
        "        ax.contour(f1, f2, Z, levels=[0.5], linewidth=2)\n",
        "\n",
        "    ax.contourf(f1, f2, Z, cmap=cmap1, alpha=0.3)\n",
        "    ax.scatter(x_test[:,0], x_test[:,1], c=y_test, cmap=cmap2)\n",
        "    ax.scatter(x_train[:,0], x_train[:,1], c=y_train, cmap=cmap2, marker='x')\n",
        "    text = f'検証:{score_test:.2f}  訓練: {score_train:.2f}'\n",
        "    ax.text(f1.max() - 0.3, f2.min() + 0.3, text, horizontalalignment='right',\n",
        "    fontsize=18) \n"
      ],
      "metadata": {
        "id": "riYWjDb0SfzI"
      },
      "execution_count": null,
      "outputs": []
    },
    {
      "cell_type": "markdown",
      "source": [
        " ## 抜本修正版(どのケースもpredict_proba関数を使うことで実装をシンプルに)"
      ],
      "metadata": {
        "id": "Y71tn5Z4TU1Y"
      }
    },
    {
      "cell_type": "code",
      "source": [
        "# 抜本修正版\n",
        "# predict_proba関数のみ使うように」して実装をシンプルに\n",
        "# メッシュ計算のロジックもきれいに修正\n",
        "from sklearn.model_selection import train_test_split\n",
        "\n",
        "# 決定境界の表示関数\n",
        "def plot_boundary(ax, x, y, algorithm):\n",
        "    x_train, x_test, y_train, y_test = train_test_split(x, y,\n",
        "            test_size=0.5, random_state=random_seed)\n",
        "    # カラーマップ定義\n",
        "    from matplotlib.colors import ListedColormap\n",
        "    cmap1 = plt.cm.bwr\n",
        "    cmap2 = ListedColormap(['#0000FF', '#000000'])\n",
        "\n",
        "    h = 0.005\n",
        "    algorithm.fit(x_train, y_train)\n",
        "    score_test = algorithm.score(x_test, y_test)\n",
        "    score_train = algorithm.score(x_train, y_train)\n",
        "    f1_min = x[:, 0].min()\n",
        "    f1_max = x[:, 0].max()\n",
        "    f2_min = x[:, 1].min()\n",
        "    f2_max = x[:, 1].max()\n",
        "    f1, f2 = np.meshgrid(np.arange(f1_min, f1_max+h, h), \n",
        "                         np.arange(f2_min, f2_max+h, h))\n",
        "    Z = algorithm.predict_proba(np.c_[f1.ravel(), f2.ravel()])[:, 1]\n",
        "    Z = Z.reshape(f1.shape)\n",
        "    ax.contour(f1, f2, Z, levels=[0.5], linewidth=2)\n",
        "    ax.contourf(f1, f2, Z, cmap=cmap1, alpha=0.3)\n",
        "    ax.scatter(x_test[:,0], x_test[:,1], c=y_test, cmap=cmap2)\n",
        "    ax.scatter(x_train[:,0], x_train[:,1], c=y_train, cmap=cmap2, marker='x')\n",
        "    text = f'検証:{score_test:.2f}  訓練: {score_train:.2f}'\n",
        "    ax.text(f1.max() - 0.3, f2.min() + 0.3, text, horizontalalignment='right',\n",
        "    fontsize=18) \n"
      ],
      "metadata": {
        "id": "SEPT04bsQrWH"
      },
      "execution_count": null,
      "outputs": []
    }
  ],
  "metadata": {
    "colab": {
      "collapsed_sections": [],
      "name": "決定境界.ipynb",
      "provenance": [],
      "toc_visible": true
    },
    "kernelspec": {
      "display_name": "Python 3",
      "language": "python",
      "name": "python3"
    },
    "language_info": {
      "codemirror_mode": {
        "name": "ipython",
        "version": 3
      },
      "file_extension": ".py",
      "mimetype": "text/x-python",
      "name": "python",
      "nbconvert_exporter": "python",
      "pygments_lexer": "ipython3",
      "version": "3.7.6"
    }
  },
  "nbformat": 4,
  "nbformat_minor": 0
}